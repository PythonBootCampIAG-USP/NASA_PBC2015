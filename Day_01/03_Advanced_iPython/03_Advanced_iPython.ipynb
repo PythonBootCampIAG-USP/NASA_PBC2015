{
 "cells": [
  {
   "cell_type": "markdown",
   "metadata": {},
   "source": [
    "Note:  This is basically a grab-bag of things...  \n",
    "\n",
    "# Advanced iPython"
   ]
  },
  {
   "cell_type": "markdown",
   "metadata": {},
   "source": [
    "iPython: interactive Python\n",
    "\n",
    "Many different ways to work with Python:\n",
    "\n",
    "* type 'python' from the command line\n",
    "* run a python script/program from the command line ('python my_prog.py')\n",
    "\n",
    "iPython adds functionallity and interactivity to python that makes it more useful in your day-to-day life.\n",
    "\n",
    "It is an interactive shell for the Python programming language that offers *enhanced introspection, additional shell syntax, tab completion and rich history*."
   ]
  },
  {
   "cell_type": "markdown",
   "metadata": {
    "collapsed": false
   },
   "source": [
    "## python shell\n",
    "\n",
    "Go out of the notebook and play with the python shell.  Show some of the limitations."
   ]
  },
  {
   "cell_type": "raw",
   "metadata": {},
   "source": [
    "[user@machine ~]$ python\n",
    "Python 2.7.8 (default, Nov 18 2014, 11:55:58)\n",
    "[GCC 4.2.1 Compatible Apple LLVM 6.0 (clang-600.0.54)] on darwin\n",
    "Type \"help\", \"copyright\", \"credits\" or \"license\" for more information.\n",
    ">>>"
   ]
  },
  {
   "cell_type": "markdown",
   "metadata": {},
   "source": [
    "## run a python script\n",
    "\n",
    "Go out of the notebook and create a python script to run."
   ]
  },
  {
   "cell_type": "raw",
   "metadata": {},
   "source": [
    "#!/usr/bin/env python\n",
    "def printHello():\n",
    "    print \"Hello World\"\n",
    "    \n",
    "print \"File Loaded\""
   ]
  },
  {
   "cell_type": "markdown",
   "metadata": {},
   "source": [
    "## ipython shell"
   ]
  },
  {
   "cell_type": "raw",
   "metadata": {},
   "source": [
    "[user@machine ~]$ ipython\n",
    "Python 2.7.8 (default, Nov 18 2014, 11:55:58)\n",
    "Type \"copyright\", \"credits\" or \"license\" for more information.\n",
    "\n",
    "IPython 3.1.0 -- An enhanced Interactive Python.\n",
    "?         -> Introduction and overview of IPython's features.\n",
    "%quickref -> Quick reference.\n",
    "help      -> Python's own help system.\n",
    "object?   -> Details about 'object', use 'object??' for extra details.\n",
    "\n",
    "In [1]:"
   ]
  },
  {
   "cell_type": "markdown",
   "metadata": {},
   "source": [
    "### Tab Completion and History Search is Great\n",
    "\n",
    "* Start typing and use the 'tab' key for auto complete.  Can use this on python functions, modules, variables, files, and more...\n",
    "* iPython stores history.  You can search it (ctrl-r) or you can use the up and down arrows.\n"
   ]
  },
  {
   "cell_type": "markdown",
   "metadata": {},
   "source": [
    "Run a file"
   ]
  },
  {
   "cell_type": "raw",
   "metadata": {},
   "source": [
    "In [1]: %run hello.py\n",
    "File Loaded"
   ]
  },
  {
   "cell_type": "markdown",
   "metadata": {},
   "source": [
    "Run it and get access to the functions and modules inside"
   ]
  },
  {
   "cell_type": "raw",
   "metadata": {},
   "source": [
    "In [2]: %run -i hello.py\n",
    "File Loaded\n",
    "\n",
    "In [3]: prin\n",
    "print       printHello\n",
    "\n",
    "In [3]: printHello()\n",
    "Hello World"
   ]
  },
  {
   "cell_type": "markdown",
   "metadata": {},
   "source": [
    "(notice I used 'tab' completion).  Try using the 'up' arrow and running it again.\n",
    "\n",
    "Here's something else useful:"
   ]
  },
  {
   "cell_type": "raw",
   "metadata": {},
   "source": [
    "%notebook -e mystuff.ipynb"
   ]
  },
  {
   "cell_type": "markdown",
   "metadata": {},
   "source": [
    "(what did this do...)\n",
    "\n",
    "Note that this is a 'magic command' - I'll talk about this in a bit."
   ]
  },
  {
   "cell_type": "markdown",
   "metadata": {},
   "source": [
    "## The notebook (ipython notebook or jupyter)\n",
    "\n",
    "How does this work...  Let's look at what it says about itself (from http://ipython.org/ipython-doc/3/notebook/notebook.html)"
   ]
  },
  {
   "cell_type": "markdown",
   "metadata": {},
   "source": [
    "###Introduction\n",
    "The notebook extends the console-based approach to interactive computing in a qualitatively new direction, providing a web-based application suitable for capturing the whole computation process: developing, documenting, and executing code, as well as communicating the results. The IPython notebook combines two components:\n",
    "\n",
    "**A web application**: a browser-based tool for interactive authoring of documents which combine explanatory text, mathematics, computations and their rich media output.\n",
    "\n",
    "**Notebook documents**: a representation of all content visible in the web application, including inputs and outputs of the computations, explanatory text, mathematics, images, and rich media representations of objects."
   ]
  },
  {
   "cell_type": "markdown",
   "metadata": {},
   "source": [
    "###Main features of the web application\n",
    "* In-browser editing for code, with automatic syntax highlighting, indentation, and tab completion/introspection.\n",
    "* The ability to execute code from the browser, with the results of computations attached to the code which generated them.\n",
    "* Displaying the result of computation using rich media representations, such as HTML, LaTeX, PNG, SVG, etc. For example, publication-quality figures rendered by the matplotlib library, \n",
    "can be included inline.\n",
    "* In-browser editing for rich text using the Markdown markup language, which can provide commentary for the code, is not limited to plain text.\n",
    "* The ability to easily include mathematical notation within markdown cells using LaTeX, and rendered natively by MathJax.\n"
   ]
  },
  {
   "cell_type": "markdown",
   "metadata": {},
   "source": [
    "### What is a notebook:\n",
    "\n",
    "It's just a JSON formatted text file.  Let's look at the really simple one we just created from the iPython interpreter."
   ]
  },
  {
   "cell_type": "code",
   "execution_count": 2,
   "metadata": {
    "collapsed": false
   },
   "outputs": [
    {
     "name": "stdout",
     "output_type": "stream",
     "text": [
      "{\r\n",
      " \"cells\": [\r\n",
      "  {\r\n",
      "   \"cell_type\": \"code\",\r\n",
      "   \"execution_count\": 1,\r\n",
      "   \"metadata\": {},\r\n",
      "   \"outputs\": [],\r\n",
      "   \"source\": [\r\n",
      "    \"%run hello.py\"\r\n",
      "   ]\r\n",
      "  },\r\n",
      "  {\r\n",
      "   \"cell_type\": \"code\",\r\n",
      "   \"execution_count\": 2,\r\n",
      "   \"metadata\": {},\r\n",
      "   \"outputs\": [],\r\n",
      "   \"source\": [\r\n",
      "    \"%run -i hello.py\"\r\n",
      "   ]\r\n",
      "  },\r\n",
      "  {\r\n",
      "   \"cell_type\": \"code\",\r\n",
      "   \"execution_count\": 3,\r\n",
      "   \"metadata\": {},\r\n",
      "   \"outputs\": [],\r\n",
      "   \"source\": [\r\n",
      "    \"printHello()\"\r\n",
      "   ]\r\n",
      "  },\r\n",
      "  {\r\n",
      "   \"cell_type\": \"code\",\r\n",
      "   \"execution_count\": 4,\r\n",
      "   \"metadata\": {},\r\n",
      "   \"outputs\": [],\r\n",
      "   \"source\": [\r\n",
      "    \"import numpy as np\"\r\n",
      "   ]\r\n",
      "  },\r\n",
      "  {\r\n",
      "   \"cell_type\": \"code\",\r\n",
      "   \"execution_count\": 5,\r\n",
      "   \"metadata\": {},\r\n",
      "   \"outputs\": [],\r\n",
      "   \"source\": [\r\n",
      "    \"np.linspace()\"\r\n",
      "   ]\r\n",
      "  }\r\n",
      " ],\r\n",
      " \"metadata\": {},\r\n",
      " \"nbformat\": 4,\r\n",
      " \"nbformat_minor\": 0\r\n",
      "}\r\n"
     ]
    }
   ],
   "source": [
    "cat mystuff.ipynb"
   ]
  },
  {
   "cell_type": "code",
   "execution_count": null,
   "metadata": {
    "collapsed": true
   },
   "outputs": [],
   "source": []
  }
 ],
 "metadata": {
  "kernelspec": {
   "display_name": "Python 2",
   "language": "python",
   "name": "python2"
  },
  "language_info": {
   "codemirror_mode": {
    "name": "ipython",
    "version": 2
   },
   "file_extension": ".py",
   "mimetype": "text/x-python",
   "name": "python",
   "nbconvert_exporter": "python",
   "pygments_lexer": "ipython2",
   "version": "2.7.8"
  }
 },
 "nbformat": 4,
 "nbformat_minor": 0
}
