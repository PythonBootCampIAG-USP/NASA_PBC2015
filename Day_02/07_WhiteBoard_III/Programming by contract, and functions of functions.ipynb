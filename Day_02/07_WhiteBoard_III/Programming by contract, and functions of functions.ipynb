{
 "cells": [
  {
   "cell_type": "markdown",
   "metadata": {},
   "source": [
    "# Programming by Contract"
   ]
  },
  {
   "cell_type": "markdown",
   "metadata": {},
   "source": [
    "## Thomas H Meyer\n",
    "### Department of Natural Resources and the Environment\n",
    "### University of Connecticut\n",
    "### thomas.meyer@uconn.edu"
   ]
  },
  {
   "cell_type": "markdown",
   "metadata": {},
   "source": [
    "Programming by contract (PBC) is a programming style that uses formal logic to help programmers write high-quality code.\n",
    "\n",
    "There is a lot to PBC; it is an extensive paradigm and it is not fully implemented in Python. But Python supports one of its key elements: assertions. Assertions establish what the system's state must be at a particular place in the code. An assertion that prescribes the state of the system before a code body executes is called a $\\bf precondition$. An assertion that prescribes the system state after a function executes is called a $\\bf postcondition$. An assertion that prescribes the system state while a function executes is called an $\\bf invariant$.\n",
    "\n",
    "Adding preconditions and postconditions to your functions provides a contract with your user. The user promises to abide by the preconditions and thus your function knows the domains of its arguments. Your function promises to abide by the postconditions, which informs the user of your function's effect on the system state. In principle, code can be $\\it proven$ correct using assertions like these. In practice, it is a powerful debugging and documentation tool."
   ]
  },
  {
   "cell_type": "markdown",
   "metadata": {},
   "source": [
    "$\\bf Definition: $ A `logical assertion' is a boolean-valued expression. It is any expression whose return value is True or False. In python, this includes all expressions that have a comparison operator$...$"
   ]
  },
  {
   "cell_type": "code",
   "execution_count": 103,
   "metadata": {
    "collapsed": false
   },
   "outputs": [
    {
     "data": {
      "text/plain": [
       "True"
      ]
     },
     "execution_count": 103,
     "metadata": {},
     "output_type": "execute_result"
    }
   ],
   "source": [
    "'eggs' < 'spam'"
   ]
  },
  {
   "cell_type": "markdown",
   "metadata": {},
   "source": [
    "$...$ or a membership test and the like."
   ]
  },
  {
   "cell_type": "code",
   "execution_count": 104,
   "metadata": {
    "collapsed": false
   },
   "outputs": [
    {
     "data": {
      "text/plain": [
       "True"
      ]
     },
     "execution_count": 104,
     "metadata": {},
     "output_type": "execute_result"
    }
   ],
   "source": [
    "8 in (1,8,7,3,9,'spam')"
   ]
  },
  {
   "cell_type": "markdown",
   "metadata": {},
   "source": [
    "### Assertions, preconditions, postconditions"
   ]
  },
  {
   "cell_type": "markdown",
   "metadata": {},
   "source": [
    "A $\\bf precondition$ is a logical assertion of some system state that must be true (or false) before some other code block can be executed correctly.\n",
    "\n",
    "Functions can be written to validate their inputs, to determine whether they satisfy all the algorithm's preconditions. In python, this test can be done using if-statements for very complicated preconditions, but simpler cases can be handled using the assert($...$) statement."
   ]
  },
  {
   "cell_type": "code",
   "execution_count": 105,
   "metadata": {
    "collapsed": true
   },
   "outputs": [],
   "source": [
    "assert(8>5)"
   ]
  },
  {
   "cell_type": "markdown",
   "metadata": {},
   "source": [
    "If an assertion is true, nothing happens. All is well and execution proceeds without interuption.\n",
    "\n",
    "If an assertion fails, python raises and exception."
   ]
  },
  {
   "cell_type": "code",
   "execution_count": 106,
   "metadata": {
    "collapsed": false
   },
   "outputs": [
    {
     "ename": "AssertionError",
     "evalue": "",
     "output_type": "error",
     "traceback": [
      "\u001b[1;31m---------------------------------------------------------------------------\u001b[0m",
      "\u001b[1;31mAssertionError\u001b[0m                            Traceback (most recent call last)",
      "\u001b[1;32m<ipython-input-106-90fcf44b9794>\u001b[0m in \u001b[0;36m<module>\u001b[1;34m()\u001b[0m\n\u001b[1;32m----> 1\u001b[1;33m \u001b[1;32massert\u001b[0m\u001b[1;33m(\u001b[0m\u001b[1;36m8\u001b[0m\u001b[1;33m<\u001b[0m\u001b[1;36m5\u001b[0m\u001b[1;33m)\u001b[0m\u001b[1;33m\u001b[0m\u001b[0m\n\u001b[0m",
      "\u001b[1;31mAssertionError\u001b[0m: "
     ]
    }
   ],
   "source": [
    "assert(8<5)"
   ]
  },
  {
   "cell_type": "markdown",
   "metadata": {},
   "source": [
    "The assertion statement has an optional additional expression that is printed by the exception."
   ]
  },
  {
   "cell_type": "code",
   "execution_count": 107,
   "metadata": {
    "collapsed": false
   },
   "outputs": [
    {
     "ename": "AssertionError",
     "evalue": "wicked helpful assertion string",
     "output_type": "error",
     "traceback": [
      "\u001b[1;31m---------------------------------------------------------------------------\u001b[0m",
      "\u001b[1;31mAssertionError\u001b[0m                            Traceback (most recent call last)",
      "\u001b[1;32m<ipython-input-107-c1bebbfd7661>\u001b[0m in \u001b[0;36m<module>\u001b[1;34m()\u001b[0m\n\u001b[1;32m----> 1\u001b[1;33m \u001b[1;32massert\u001b[0m\u001b[1;33m(\u001b[0m\u001b[1;36m8\u001b[0m\u001b[1;33m<\u001b[0m\u001b[1;36m5\u001b[0m\u001b[1;33m)\u001b[0m\u001b[1;33m,\u001b[0m \u001b[1;34m'wicked helpful assertion string'\u001b[0m\u001b[1;33m\u001b[0m\u001b[0m\n\u001b[0m",
      "\u001b[1;31mAssertionError\u001b[0m: wicked helpful assertion string"
     ]
    }
   ],
   "source": [
    "assert(8<5), 'wicked helpful assertion string'"
   ]
  },
  {
   "cell_type": "markdown",
   "metadata": {},
   "source": [
    "Let's write a function that could use some assertions. Here's a function that converts a temperature in degrees Kelvin to Celsius, so it requires that its input temperature not be a negative number. I advocate adding the assertions to the documentation string so the function's users know the terms of the contract."
   ]
  },
  {
   "cell_type": "code",
   "execution_count": 108,
   "metadata": {
    "collapsed": false
   },
   "outputs": [],
   "source": [
    "def K2C(tK):\n",
    "    \"\"\"\n",
    "    Convert degrees K to C.\n",
    "    Argument: tK is a temperature in degrees K.\n",
    "    Precondition: (tK > 0)\n",
    "    \"\"\"\n",
    "    assert tK > 0, 'tK is negative'\n",
    "    return tK - 273.15"
   ]
  },
  {
   "cell_type": "markdown",
   "metadata": {},
   "source": [
    "Here's what the documentation string gives."
   ]
  },
  {
   "cell_type": "code",
   "execution_count": 109,
   "metadata": {
    "collapsed": false
   },
   "outputs": [
    {
     "name": "stdout",
     "output_type": "stream",
     "text": [
      "Help on function K2C in module __main__:\n",
      "\n",
      "K2C(tK)\n",
      "    Convert degrees K to C.\n",
      "    Argument: tK is a temperature in degrees K.\n",
      "    Precondition: (tK > 0)\n",
      "\n"
     ]
    }
   ],
   "source": [
    "help(K2C)"
   ]
  },
  {
   "cell_type": "markdown",
   "metadata": {},
   "source": [
    "Let's try it with an invalid input."
   ]
  },
  {
   "cell_type": "code",
   "execution_count": 110,
   "metadata": {
    "collapsed": false
   },
   "outputs": [
    {
     "ename": "AssertionError",
     "evalue": "tK is negative",
     "output_type": "error",
     "traceback": [
      "\u001b[1;31m---------------------------------------------------------------------------\u001b[0m",
      "\u001b[1;31mAssertionError\u001b[0m                            Traceback (most recent call last)",
      "\u001b[1;32m<ipython-input-110-018cf4d4a0cb>\u001b[0m in \u001b[0;36m<module>\u001b[1;34m()\u001b[0m\n\u001b[1;32m----> 1\u001b[1;33m \u001b[0mK2C\u001b[0m\u001b[1;33m(\u001b[0m\u001b[1;33m-\u001b[0m\u001b[1;36m4\u001b[0m\u001b[1;33m)\u001b[0m\u001b[1;33m\u001b[0m\u001b[0m\n\u001b[0m",
      "\u001b[1;32m<ipython-input-108-7fe8f7242c6c>\u001b[0m in \u001b[0;36mK2C\u001b[1;34m(tK)\u001b[0m\n\u001b[0;32m      5\u001b[0m     \u001b[0mPrecondition\u001b[0m\u001b[1;33m:\u001b[0m \u001b[1;33m(\u001b[0m\u001b[0mtK\u001b[0m \u001b[1;33m>\u001b[0m \u001b[1;36m0\u001b[0m\u001b[1;33m)\u001b[0m\u001b[1;33m\u001b[0m\u001b[0m\n\u001b[0;32m      6\u001b[0m     \"\"\"\n\u001b[1;32m----> 7\u001b[1;33m     \u001b[1;32massert\u001b[0m \u001b[0mtK\u001b[0m \u001b[1;33m>\u001b[0m \u001b[1;36m0\u001b[0m\u001b[1;33m,\u001b[0m \u001b[1;34m'tK is negative'\u001b[0m\u001b[1;33m\u001b[0m\u001b[0m\n\u001b[0m\u001b[0;32m      8\u001b[0m     \u001b[1;32mreturn\u001b[0m \u001b[0mtK\u001b[0m \u001b[1;33m-\u001b[0m \u001b[1;36m273.15\u001b[0m\u001b[1;33m\u001b[0m\u001b[0m\n",
      "\u001b[1;31mAssertionError\u001b[0m: tK is negative"
     ]
    }
   ],
   "source": [
    "K2C(-4)"
   ]
  },
  {
   "cell_type": "markdown",
   "metadata": {},
   "source": [
    "The input argument needs to be numeric, so we should perform type checking on it. There are several types of numbers that are allowed: integers, long integers, and floats -- but not complex numbers. We could test for them individually with a string of $or$ clauses, but there's a better way. Define a tuple of the allowed types and test for membership in that tuple. \n",
    "\n",
    "Python's isinstance($thing, type$) function returns True if and only if $thing$ is a $type$."
   ]
  },
  {
   "cell_type": "code",
   "execution_count": 111,
   "metadata": {
    "collapsed": false
   },
   "outputs": [
    {
     "data": {
      "text/plain": [
       "True"
      ]
     },
     "execution_count": 111,
     "metadata": {},
     "output_type": "execute_result"
    }
   ],
   "source": [
    "NumberTypes = (int, long, float)\n",
    "isinstance(8, NumberTypes)"
   ]
  },
  {
   "cell_type": "code",
   "execution_count": 112,
   "metadata": {
    "collapsed": false
   },
   "outputs": [
    {
     "data": {
      "text/plain": [
       "False"
      ]
     },
     "execution_count": 112,
     "metadata": {},
     "output_type": "execute_result"
    }
   ],
   "source": [
    "isinstance('spam!', NumberTypes)"
   ]
  },
  {
   "cell_type": "markdown",
   "metadata": {},
   "source": [
    "We'll add in the type checking. It needs to go before the assertion about tK's value because that assertion itself would fail if tK isn't numeric!"
   ]
  },
  {
   "cell_type": "code",
   "execution_count": 123,
   "metadata": {
    "collapsed": true
   },
   "outputs": [],
   "source": [
    "NumberTypes = (int, long, float)\n",
    "\n",
    "def K2C(tK):\n",
    "    \"\"\"\n",
    "    Convert degrees K to C.\n",
    "    Argument: tK is a temperature in degrees K.\n",
    "    Preconditions: (tK is an int or long int or float) and (tK > 0)\n",
    "    \"\"\"\n",
    "    assert isinstance(tK, NumberTypes), 'tK must be numeric'\n",
    "    assert tK > 0, 'tK is negative, which is not allowed'\n",
    "    return tK - 273.15"
   ]
  },
  {
   "cell_type": "code",
   "execution_count": 125,
   "metadata": {
    "collapsed": false
   },
   "outputs": [
    {
     "ename": "AssertionError",
     "evalue": "tK must be numeric",
     "output_type": "error",
     "traceback": [
      "\u001b[1;31m---------------------------------------------------------------------------\u001b[0m",
      "\u001b[1;31mAssertionError\u001b[0m                            Traceback (most recent call last)",
      "\u001b[1;32m<ipython-input-125-58fe8bb21084>\u001b[0m in \u001b[0;36m<module>\u001b[1;34m()\u001b[0m\n\u001b[1;32m----> 1\u001b[1;33m \u001b[0mK2C\u001b[0m\u001b[1;33m(\u001b[0m\u001b[1;34m'hello world!'\u001b[0m\u001b[1;33m)\u001b[0m\u001b[1;33m\u001b[0m\u001b[0m\n\u001b[0m",
      "\u001b[1;32m<ipython-input-123-47539583aa1f>\u001b[0m in \u001b[0;36mK2C\u001b[1;34m(tK)\u001b[0m\n\u001b[0;32m      7\u001b[0m     \u001b[0mPreconditions\u001b[0m\u001b[1;33m:\u001b[0m \u001b[1;33m(\u001b[0m\u001b[0mtK\u001b[0m \u001b[1;32mis\u001b[0m \u001b[0man\u001b[0m \u001b[0mint\u001b[0m \u001b[1;32mor\u001b[0m \u001b[0mlong\u001b[0m \u001b[0mint\u001b[0m \u001b[1;32mor\u001b[0m \u001b[0mfloat\u001b[0m\u001b[1;33m)\u001b[0m \u001b[1;32mand\u001b[0m \u001b[1;33m(\u001b[0m\u001b[0mtK\u001b[0m \u001b[1;33m>\u001b[0m \u001b[1;36m0\u001b[0m\u001b[1;33m)\u001b[0m\u001b[1;33m\u001b[0m\u001b[0m\n\u001b[0;32m      8\u001b[0m     \"\"\"\n\u001b[1;32m----> 9\u001b[1;33m     \u001b[1;32massert\u001b[0m \u001b[0misinstance\u001b[0m\u001b[1;33m(\u001b[0m\u001b[0mtK\u001b[0m\u001b[1;33m,\u001b[0m \u001b[0mNumberTypes\u001b[0m\u001b[1;33m)\u001b[0m\u001b[1;33m,\u001b[0m \u001b[1;34m'tK must be numeric'\u001b[0m\u001b[1;33m\u001b[0m\u001b[0m\n\u001b[0m\u001b[0;32m     10\u001b[0m     \u001b[1;32massert\u001b[0m \u001b[0mtK\u001b[0m \u001b[1;33m>\u001b[0m \u001b[1;36m0\u001b[0m\u001b[1;33m,\u001b[0m \u001b[1;34m'tK is negative, which is not allowed'\u001b[0m\u001b[1;33m\u001b[0m\u001b[0m\n\u001b[0;32m     11\u001b[0m     \u001b[1;32mreturn\u001b[0m \u001b[0mtK\u001b[0m \u001b[1;33m-\u001b[0m \u001b[1;36m273.15\u001b[0m\u001b[1;33m\u001b[0m\u001b[0m\n",
      "\u001b[1;31mAssertionError\u001b[0m: tK must be numeric"
     ]
    }
   ],
   "source": [
    "K2C('hello world!')"
   ]
  },
  {
   "cell_type": "markdown",
   "metadata": {},
   "source": [
    "A $\\bf postcondition$ is a system state that is guaranteed to be true after a function finishes executing. Postconditions should be placed after all state-changing expressions. They give the user peace of mind that the function has, in fact, fufilled its promises and things may proceed."
   ]
  },
  {
   "cell_type": "code",
   "execution_count": 126,
   "metadata": {
    "collapsed": true
   },
   "outputs": [],
   "source": [
    "NumberTypes = (int, long, float)\n",
    "\n",
    "def K2C(tK):\n",
    "    \"\"\"\n",
    "    Convert degrees K to C.\n",
    "    Argument: tK is a temperature in degrees K.\n",
    "    Preconditions: (tK is int or long int or float) and (tK > 0)\n",
    "    Postconditions: (result is a float in Celsius)\n",
    "    \"\"\"\n",
    "    assert isinstance(tK, NumberTypes), 'tK must be numeric'\n",
    "    assert tK > 0, 'K2C: tK is negative, which is not allowed'\n",
    "    \n",
    "    result = tK - 273.15 # conversion to Celsius\n",
    "    \n",
    "    assert isinstance(result, float), 'the result must be a float'\n",
    "    return result"
   ]
  },
  {
   "cell_type": "code",
   "execution_count": 127,
   "metadata": {
    "collapsed": false
   },
   "outputs": [
    {
     "data": {
      "text/plain": [
       "14.850000000000023"
      ]
     },
     "execution_count": 127,
     "metadata": {},
     "output_type": "execute_result"
    }
   ],
   "source": [
    "K2C(288)"
   ]
  },
  {
   "cell_type": "markdown",
   "metadata": {},
   "source": [
    "##Functions as arguments to other functions"
   ]
  },
  {
   "cell_type": "markdown",
   "metadata": {},
   "source": [
    "Some functions take other functions as their arguments. For example, in SciPy there are functions that find minima of other functions, and (obviously) they need to know which function to work on.\n",
    "\n",
    "scipy.optimize.minimize_scalar"
   ]
  },
  {
   "cell_type": "code",
   "execution_count": null,
   "metadata": {
    "collapsed": false
   },
   "outputs": [],
   "source": [
    "import scipy\n",
    "help(scipy.optimize.minimize_scalar)"
   ]
  },
  {
   "cell_type": "markdown",
   "metadata": {},
   "source": [
    "Let's try it on $(x-1)^2$. We don't want to bother to write a formal, named function like for this. We don't need a function with a name to compute (x - 1)**2, so this is a perfect place for a lambda function."
   ]
  },
  {
   "cell_type": "code",
   "execution_count": 129,
   "metadata": {
    "collapsed": false
   },
   "outputs": [
    {
     "data": {
      "text/plain": [
       "  fun: 0.0\n",
       " nfev: 5\n",
       "  nit: 4\n",
       "    x: 1.0"
      ]
     },
     "execution_count": 129,
     "metadata": {},
     "output_type": "execute_result"
    }
   ],
   "source": [
    "scipy.optimize.minimize_scalar(lambda x: (x-1)**2)"
   ]
  },
  {
   "cell_type": "markdown",
   "metadata": {},
   "source": [
    "The value that minimizes the function is returned as the x attribute. It is 1.0, as expected."
   ]
  },
  {
   "cell_type": "markdown",
   "metadata": {},
   "source": [
    "Let's write a function of our own that takes another function as its argument."
   ]
  },
  {
   "cell_type": "code",
   "execution_count": 130,
   "metadata": {
    "collapsed": false
   },
   "outputs": [
    {
     "name": "stdout",
     "output_type": "stream",
     "text": [
      "<function justAnotherFunction at 0x0000000015D2B048>\n"
     ]
    }
   ],
   "source": [
    "def justAnotherFunction(x): return x\n",
    "\n",
    "def weirdFunc(f):\n",
    "    print f\n",
    "    return None\n",
    "\n",
    "weirdFunc(justAnotherFunction)"
   ]
  },
  {
   "cell_type": "markdown",
   "metadata": {},
   "source": [
    "The function itself is passed into weirdFunc. Here's other examples."
   ]
  },
  {
   "cell_type": "code",
   "execution_count": 131,
   "metadata": {
    "collapsed": false
   },
   "outputs": [
    {
     "name": "stdout",
     "output_type": "stream",
     "text": [
      "<function <lambda> at 0x0000000004015C18>\n"
     ]
    }
   ],
   "source": [
    "weirdFunc(lambda x: (x-1)**2)"
   ]
  },
  {
   "cell_type": "markdown",
   "metadata": {},
   "source": [
    "This might bake your noodle, but we can pass a function to itself."
   ]
  },
  {
   "cell_type": "code",
   "execution_count": null,
   "metadata": {
    "collapsed": false
   },
   "outputs": [],
   "source": [
    "weirdFunc(weirdFunc)"
   ]
  },
  {
   "cell_type": "markdown",
   "metadata": {},
   "source": [
    "We can execute the function"
   ]
  },
  {
   "cell_type": "code",
   "execution_count": null,
   "metadata": {
    "collapsed": false
   },
   "outputs": [],
   "source": [
    "def weirdFunc(f):\n",
    "    return f(4)\n",
    "\n",
    "weirdFunc(justAnotherFunction)"
   ]
  },
  {
   "cell_type": "markdown",
   "metadata": {},
   "source": [
    "Let's plot a parametric function $f(t) = t^2$ for $t \\in [0,1)$"
   ]
  },
  {
   "cell_type": "code",
   "execution_count": null,
   "metadata": {
    "collapsed": false
   },
   "outputs": [],
   "source": [
    "import numpy as np\n",
    "import matplotlib\n",
    "import matplotlib.pyplot as plt\n",
    "%matplotlib inline\n",
    "\n",
    "def myPlot(f, npts = 50):\n",
    "    T = np.linspace(0, 1, npts) # all the parameter values (t)\n",
    "    y = [f(t) for t in T] # f(t)\n",
    "    return plt.plot(T, y)\n",
    "\n",
    "myPlot(lambda x: x**2)\n",
    "    "
   ]
  },
  {
   "cell_type": "markdown",
   "metadata": {},
   "source": [
    "Let's plot a parametric function of two functions: $f(t) = {\\sin t, \\cos t}$ and, here, we'll use the numpy functions sin and cos"
   ]
  },
  {
   "cell_type": "code",
   "execution_count": null,
   "metadata": {
    "collapsed": false
   },
   "outputs": [],
   "source": [
    "def myPlot(xf, yf, npts = 50):\n",
    "    T = np.linspace(0,1,npts)\n",
    "    x = [xf(t) for t in T]\n",
    "    y = [yf(t) for t in T]\n",
    "    return plt.plot(x, y)\n",
    "\n",
    "myPlot(np.sin, np.cos)"
   ]
  },
  {
   "cell_type": "markdown",
   "metadata": {},
   "source": [
    "Here's a function that implements two-dimensional parametric functions: $f(t) = \\{x(t), y(t)\\}$"
   ]
  },
  {
   "cell_type": "code",
   "execution_count": null,
   "metadata": {
    "collapsed": false
   },
   "outputs": [],
   "source": [
    "def parametricFunc(xf, yf, t):\n",
    "    \"\"\"\n",
    "    Evaluate a parametric function {x(t), y(t)}\n",
    "    Arguments: \n",
    "        xf is a function of one argument that will be evaluated at t.\n",
    "        yf is a function of one argument that will be evaluated at t.\n",
    "        t is a float in [0,1]\n",
    "    Preconditions: (t is a float) and (t in [0,1])\n",
    "    \"\"\"\n",
    "    assert isinstance(t, float), 't must be a float'\n",
    "    assert 0 <= t <= 1.0, 't is not in [0,1]'\n",
    "    return np.array([xf(t), yf(t)])\n",
    "\n",
    "parametricFunc(np.sin, np.cos, 0.5)"
   ]
  },
  {
   "cell_type": "markdown",
   "metadata": {},
   "source": [
    "Final example: here's a function that implements a parametric function of any (finite) dimension. It takes a list of functions for its first argument. For example\n",
    "\n",
    "parametricFuncND( [np.sin, np.cos], 0.5)"
   ]
  },
  {
   "cell_type": "code",
   "execution_count": null,
   "metadata": {
    "collapsed": false
   },
   "outputs": [],
   "source": [
    "def parametricFuncND(listOfFunctions, t):\n",
    "    \"\"\"\n",
    "    Evaluate  a parametric function of any (finite) dimension\n",
    "    Arguments: \n",
    "        listOfFunctions is a list of functions of one value that will be evaluated a t.\n",
    "        t is a float in [0,1]\n",
    "    Preconditions: (t is a float) and (t in [0,1])\n",
    "    \"\"\"\n",
    "    assert isinstance(t, float), 't must be a float'\n",
    "    assert 0 <= t <= 1.0, 't is not in [0,1]'\n",
    "    assert len(listOfFunctions) > 0, 'the list of functions must have at least one function'\n",
    "    return np.array([f(t) for f in listOfFunctions])\n",
    "\n",
    "parametricFuncND([np.sin, np.cos, lambda x: x**2 - 3.0 * x], 0.5)"
   ]
  },
  {
   "cell_type": "markdown",
   "metadata": {},
   "source": [
    "It would be good to verify that the elements in listOfFunctions are functions but, unfortunately, that does not appear to be straightforward."
   ]
  },
  {
   "cell_type": "code",
   "execution_count": null,
   "metadata": {
    "collapsed": false
   },
   "outputs": [],
   "source": [
    "isinstance(np.sin, type(lambda x: x))"
   ]
  },
  {
   "cell_type": "markdown",
   "metadata": {
    "collapsed": true
   },
   "source": [
    "##Recursion"
   ]
  },
  {
   "cell_type": "markdown",
   "metadata": {},
   "source": [
    "Recursion is a programming style in which a problem is solved by first solving a smaller problem of the same type and augmenting the smaller solution with a simple addition. Recursive problems often look like this:\n",
    "\n",
    "$s_{i} = s_{i-1} + x$,\n",
    "\n",
    "which means the next state $s_{i+1}$ equals the previous state $s_i$ plus something else that does not depend on the previous state $x$.\n",
    "\n",
    "Example: find the sum of $n$ integers $1 + 2 + ...+ n$\n",
    "\n",
    "A simple for loop does this easily."
   ]
  },
  {
   "cell_type": "code",
   "execution_count": 1,
   "metadata": {
    "collapsed": false
   },
   "outputs": [
    {
     "data": {
      "text/plain": [
       "15"
      ]
     },
     "execution_count": 1,
     "metadata": {},
     "output_type": "execute_result"
    }
   ],
   "source": [
    "total = 0 # initialize the summand\n",
    "\n",
    "n = 5\n",
    "\n",
    "for i in range(1,n+1):\n",
    "    total += i\n",
    "    \n",
    "total"
   ]
  },
  {
   "cell_type": "markdown",
   "metadata": {},
   "source": [
    "Easy enough. To solve this problem recursively, let's write it as an iterated function, as above. Suppose we have a magick function named TOTAL(n) that returns the sum of $1...n$. Clearly\n",
    "\n",
    "TOTAL(0) = 0\n",
    "\n",
    "and we can solve the problem like this using the magick function\n",
    "\n",
    "TOTAL(n) = TOTAL(n-1) + n"
   ]
  },
  {
   "cell_type": "code",
   "execution_count": 3,
   "metadata": {
    "collapsed": true
   },
   "outputs": [],
   "source": [
    "def TOTAL(n):\n",
    "    \"\"\"\n",
    "    compute the summation of [1...n]\n",
    "    \"\"\"\n",
    "    if n == 0: \n",
    "        return 0\n",
    "    else:\n",
    "        return TOTAL(n-1) + n"
   ]
  },
  {
   "cell_type": "code",
   "execution_count": 7,
   "metadata": {
    "collapsed": false
   },
   "outputs": [
    {
     "data": {
      "text/plain": [
       "15"
      ]
     },
     "execution_count": 7,
     "metadata": {},
     "output_type": "execute_result"
    }
   ],
   "source": [
    "TOTAL(5)"
   ]
  },
  {
   "cell_type": "markdown",
   "metadata": {},
   "source": [
    "At first, recursion seems like complete magick. It's as if the program DOESN'T DO ANYTHING yet it computes the answer. There are no iteration variables, no intermediate results (it seems) -- just the answer. But a little reflection on how python executes this function might shed some light. There are intermediate results that are held on the execution stack. Those results are the values the variable n is given each time TOTAL is called. (Remember that n is $\\it local$ to the instance of its invocation, so every invocation of TOTAL gets its own private copy of n. For TOTAL(3) the execution stack looks like this\n",
    "\n",
    "TOTAL(3) = TOTAL(2) + 3\n",
    "\n",
    "TOTAL(2) = TOTAL(1) + 2\n",
    "\n",
    "TOTAL(1) = TOTAL(0) + 1\n",
    "\n",
    "TOTAL(0) = 0 so\n",
    "\n",
    "TOTAL(1) = TOTAL(0) + 1 = 0 + 1 = 1\n",
    "\n",
    "TOTAL(2) = TOTAL(1) + 2 = 1 + 2 = 3\n",
    "\n",
    "TOTAL(3) = TOTAL(2) + 3 = 3 + 3 = 6"
   ]
  },
  {
   "cell_type": "code",
   "execution_count": 8,
   "metadata": {
    "collapsed": false
   },
   "outputs": [
    {
     "data": {
      "text/plain": [
       "6"
      ]
     },
     "execution_count": 8,
     "metadata": {},
     "output_type": "execute_result"
    }
   ],
   "source": [
    "TOTAL(3)"
   ]
  },
  {
   "cell_type": "markdown",
   "metadata": {},
   "source": [
    "Example: Fibonnaci series is $f_n = f_{n-1} + f_{n-2}$ with $f_0 = 0$ and $f_1 = 1$\n",
    "\n",
    "The implementation literally codes the mathematical definition into python syntax. I've also added an option flag argument that turns off the print statement by default."
   ]
  },
  {
   "cell_type": "code",
   "execution_count": 70,
   "metadata": {
    "collapsed": true
   },
   "outputs": [],
   "source": [
    "def f(n, verbose=False):\n",
    "    if n == 0:\n",
    "        return 0\n",
    "    if n == 1:\n",
    "        return 1\n",
    "    else:\n",
    "        f1 = f(n-1, verbose)\n",
    "        if verbose: print 'f(n-1) = f(', n-1, ') =', f1\n",
    "        f2 = f(n-2, verbose)\n",
    "        if verbose: print 'f(n-2) = f(', n-2, ') =', f2\n",
    "        return f1 + f2"
   ]
  },
  {
   "cell_type": "code",
   "execution_count": 71,
   "metadata": {
    "collapsed": false
   },
   "outputs": [
    {
     "name": "stdout",
     "output_type": "stream",
     "text": [
      "f(n-1) = f( 1 ) = 1\n",
      "f(n-2) = f( 0 ) = 0\n",
      "f(n-1) = f( 2 ) = 1\n",
      "f(n-2) = f( 1 ) = 1\n",
      "f(n-1) = f( 3 ) = 2\n",
      "f(n-1) = f( 1 ) = 1\n",
      "f(n-2) = f( 0 ) = 0\n",
      "f(n-2) = f( 2 ) = 1\n"
     ]
    },
    {
     "data": {
      "text/plain": [
       "3"
      ]
     },
     "execution_count": 71,
     "metadata": {},
     "output_type": "execute_result"
    }
   ],
   "source": [
    "f(4, True)"
   ]
  },
  {
   "cell_type": "code",
   "execution_count": 74,
   "metadata": {
    "collapsed": false
   },
   "outputs": [
    {
     "name": "stdout",
     "output_type": "stream",
     "text": [
      "10000 loops, best of 3: 36.2 µs per loop\n"
     ]
    }
   ],
   "source": [
    "%timeit f(10)"
   ]
  },
  {
   "cell_type": "markdown",
   "metadata": {},
   "source": [
    "This list comprehension produces the Fibonacci sequence."
   ]
  },
  {
   "cell_type": "code",
   "execution_count": 66,
   "metadata": {
    "collapsed": false
   },
   "outputs": [
    {
     "data": {
      "text/plain": [
       "[0, 1, 1, 2, 3, 5]"
      ]
     },
     "execution_count": 66,
     "metadata": {},
     "output_type": "execute_result"
    }
   ],
   "source": [
    "[f(n) for n in range(6)]"
   ]
  },
  {
   "cell_type": "markdown",
   "metadata": {},
   "source": [
    "The print statements reveal that the algorithm is wicked inefficient. For f(4), f(2) is called twice, and f(1) is called three times. Try f(5) and you'll start to see that the redundancy problem is growing out of control. A little algebra shows how the problem arises.\n",
    "\n",
    "$f_n = f_{n-1} + f_{n-2} \\hspace{2 cm}$ and\n",
    "\n",
    "$f_{n-1} = f_{n-2} + f_{n-3} \\hspace{1.7 cm}$ so substituting for $f_{n-1}$\n",
    "\n",
    "$f_n = (f_{n-2} + f_{n-3}) + f_{n-2}$\n",
    "\n",
    "$f_n = 2 \\, f_{n-2} + f_{n-3}$\n",
    "\n",
    "To solve the problem, $f_{n-2}$ is called twice at each step. However, this also shows the solution. We'll change the implementation so that f(n) returns both f(n) and f(n-1) as a tuple. This implementation not only does not have redundant invocations, it skips every other call! "
   ]
  },
  {
   "cell_type": "code",
   "execution_count": 77,
   "metadata": {
    "collapsed": true
   },
   "outputs": [],
   "source": [
    "def f(n, verbose=False):\n",
    "    if verbose: print 'f(', n, ')'\n",
    "    if n == 1 or n == 0:\n",
    "        return 1,0 # return a tuple. Notice that parentheses are not needed here\n",
    "    else:\n",
    "        # note the multiple assignment. the LHS is also a tuple, appearances notwithstanding\n",
    "        f2, f3 = f(n-2, verbose) \n",
    "        return 2*f2 + f3, f2"
   ]
  },
  {
   "cell_type": "code",
   "execution_count": 76,
   "metadata": {
    "collapsed": false
   },
   "outputs": [
    {
     "name": "stdout",
     "output_type": "stream",
     "text": [
      "f( 4 )\n",
      "f( 2 )\n",
      "f( 0 )\n"
     ]
    },
    {
     "data": {
      "text/plain": [
       "(5, 2)"
      ]
     },
     "execution_count": 76,
     "metadata": {},
     "output_type": "execute_result"
    }
   ],
   "source": [
    "f(4, True)"
   ]
  },
  {
   "cell_type": "markdown",
   "metadata": {},
   "source": [
    "The function returns a tuple instead of the one single number, which is slightly annoying. One quick fix is to just tack on a [0] to the function invocation to pick out only the first number."
   ]
  },
  {
   "cell_type": "code",
   "execution_count": 78,
   "metadata": {
    "collapsed": false
   },
   "outputs": [
    {
     "data": {
      "text/plain": [
       "208484302383602761327318314157481124218671703953860963847005781163880495422212218705895784975445132954453283071549069573566561456132420527702634287255875261898108634086825602779700668110253165L"
      ]
     },
     "execution_count": 78,
     "metadata": {},
     "output_type": "execute_result"
    }
   ],
   "source": [
    "f(1000)[0]"
   ]
  },
  {
   "cell_type": "markdown",
   "metadata": {},
   "source": [
    "This alogrithm is wicked fast. If you try to compute f(1000) with the first-try implementation, python's stack goes too deep and throws and overflow exception -- it can't even solve the problem! Also notice how python quietly changed to arbitrary precision arithematic when the size of the number grew larger than what can be represented with machine arithemtic. Slicker than frog's fur.\n",
    "\n",
    "Let's see how much faster this implementation is."
   ]
  },
  {
   "cell_type": "code",
   "execution_count": 79,
   "metadata": {
    "collapsed": false
   },
   "outputs": [
    {
     "name": "stdout",
     "output_type": "stream",
     "text": [
      "The slowest run took 8.83 times longer than the fastest. This could mean that an intermediate result is being cached \n",
      "1000000 loops, best of 3: 1.58 µs per loop\n"
     ]
    }
   ],
   "source": [
    "%timeit f(10)"
   ]
  },
  {
   "cell_type": "code",
   "execution_count": 80,
   "metadata": {
    "collapsed": false
   },
   "outputs": [
    {
     "data": {
      "text/plain": [
       "22.911392405063292"
      ]
     },
     "execution_count": 80,
     "metadata": {},
     "output_type": "execute_result"
    }
   ],
   "source": [
    "36.2/1.58"
   ]
  },
  {
   "cell_type": "markdown",
   "metadata": {},
   "source": [
    "###Base cases\n",
    "\n",
    "All recursive functions have a $\\bf base$ $\\bf case$. A base case is a value (or values) the function returns without needing to resort to deeper recursion. Without a base case, the recursion never stops and the program gets in to an infinite loop. In the summation problem, the base case was zero. In the Fibonnaci problem, the base cases were one and zero. So, when you're designing a recursive algorithm, make sure you recognize the base case(s) and include in your code."
   ]
  },
  {
   "cell_type": "markdown",
   "metadata": {},
   "source": [
    "#### Exercise"
   ]
  },
  {
   "cell_type": "markdown",
   "metadata": {},
   "source": [
    "Write two functions to compute the factorial function x!\n",
    "\n",
    "$x!_n = x!_{n-1} \\times n$\n",
    "\n",
    "Write your first function using a For loop. Write your second function using recursion."
   ]
  },
  {
   "cell_type": "markdown",
   "metadata": {},
   "source": [
    "#### Harder exercise"
   ]
  },
  {
   "cell_type": "markdown",
   "metadata": {},
   "source": [
    "Write a function to produce a Fibonnaci number without using recursion."
   ]
  },
  {
   "cell_type": "markdown",
   "metadata": {
    "collapsed": true
   },
   "source": [
    "#Capstone Example: Arclength"
   ]
  },
  {
   "cell_type": "markdown",
   "metadata": {},
   "source": [
    "In summary, to this point we've seen how assertions and mindful documentation improve code reliability and readability, how we can write functions that take functions as arguments allows us to write very general-purpose code, and how recursion works. However, although the previous examples might be helpful to see how recursion works, they are possibly not completely convincing that it makes (at least some) tasks easier. This notebook concludes with a non-trivial example of a real-world numerical methods problem. We shall write a function that computes the arclength of an user-provided parametric curve with any finite number of dimensions."
   ]
  },
  {
   "cell_type": "markdown",
   "metadata": {},
   "source": [
    "Let's define arclength so we know what we're talking about. Arclength is the length a curve would have if all its curvature was removed without stretching it. If we had a real, physical curve (think about the railing of a spiral staircase), the arclength might be measured by laying a cloth tape on the curve and adding up the measures.\n",
    "\n",
    "This intuitive definition leads to a formal analog. Like many other calculus problems, the approach is to approximate the exact with ever decreasing linear approximations that approach the curved reality in the limit. Here, we will approximate the arclengths of segments of a curve with the lengths of  straight-line segments between the segments' endpoints.\n",
    "\n",
    "For example, suppose we want to know the arclength $s$ of $y = x^2$ from $x = 0$ to $x = 2$"
   ]
  },
  {
   "cell_type": "code",
   "execution_count": 81,
   "metadata": {
    "collapsed": true
   },
   "outputs": [],
   "source": [
    "import numpy as np\n",
    "import matplotlib.pyplot as plt\n",
    "%matplotlib inline"
   ]
  },
  {
   "cell_type": "markdown",
   "metadata": {},
   "source": [
    "Here's the points to plot. Notice how we can square the x-values without a loop construct because numpy can broadcast operations over iteratable data structures, like lists."
   ]
  },
  {
   "cell_type": "code",
   "execution_count": 91,
   "metadata": {
    "collapsed": false
   },
   "outputs": [
    {
     "data": {
      "text/plain": [
       "<matplotlib.text.Text at 0xbbf86d8>"
      ]
     },
     "execution_count": 91,
     "metadata": {},
     "output_type": "execute_result"
    },
    {
     "data": {
      "image/png": "[encoded data removed]",
      "text/plain": [
       "<matplotlib.figure.Figure at 0xba515c0>"
      ]
     },
     "metadata": {},
     "output_type": "display_data"
    }
   ],
   "source": [
    "x = np.linspace(0,2,50,endpoint=True)\n",
    "plt.plot(x,x**2)\n",
    "plt.xlabel('x')\n",
    "plt.ylabel('y = $x^2$')\n",
    "plt.title('A Parabola')"
   ]
  },
  {
   "cell_type": "markdown",
   "metadata": {},
   "source": [
    "Here's what the zero-order approximation looks like."
   ]
  },
  {
   "cell_type": "code",
   "execution_count": 98,
   "metadata": {
    "collapsed": false
   },
   "outputs": [
    {
     "data": {
      "text/plain": [
       "<matplotlib.text.Text at 0xcb69d30>"
      ]
     },
     "execution_count": 98,
     "metadata": {},
     "output_type": "execute_result"
    },
    {
     "data": {
      "image/png": "[encoded data removed]",
      "text/plain": [
       "<matplotlib.figure.Figure at 0xcb2b048>"
      ]
     },
     "metadata": {},
     "output_type": "display_data"
    }
   ],
   "source": [
    "x = np.linspace(0,2,50,endpoint=True)\n",
    "x0 = 0\n",
    "x1 = 2\n",
    "plt.plot(x,x**2)\n",
    "plt.plot([x0,x1],[x0,x1**2],'ro')\n",
    "plt.plot([x0,x1],[x0,x1**2],'r-')\n",
    "plt.xlabel('x')\n",
    "plt.ylabel('y = $x^2$')\n",
    "plt.title('A Parabola Approximated with a Line Segment')"
   ]
  },
  {
   "cell_type": "markdown",
   "metadata": {},
   "source": [
    "The length of the approximation is $\\sqrt((2-0)^2 + (4-0)^2)$"
   ]
  },
  {
   "cell_type": "code",
   "execution_count": 90,
   "metadata": {
    "collapsed": false
   },
   "outputs": [
    {
     "data": {
      "text/plain": [
       "4.4721359549995796"
      ]
     },
     "execution_count": 90,
     "metadata": {},
     "output_type": "execute_result"
    }
   ],
   "source": [
    "np.sqrt(2**2 + 4**2)"
   ]
  },
  {
   "cell_type": "markdown",
   "metadata": {},
   "source": [
    "It happens that a closed-form solution exists for this problem: $s = \\sqrt(17) + \\frac{{\\rm asinh} (4)}{4} \\approx 4.64678$. Notice that the approximation is less than the true value. This is $always$ true (think about the triangle inequality), which means we can use that as an invariant in our code. The next iteration looks like this."
   ]
  },
  {
   "cell_type": "code",
   "execution_count": 97,
   "metadata": {
    "collapsed": false
   },
   "outputs": [
    {
     "data": {
      "text/plain": [
       "<matplotlib.text.Text at 0xcb35438>"
      ]
     },
     "execution_count": 97,
     "metadata": {},
     "output_type": "execute_result"
    },
    {
     "data": {
      "image/png": "[encoded data removed]",
      "text/plain": [
       "<matplotlib.figure.Figure at 0xc962438>"
      ]
     },
     "metadata": {},
     "output_type": "display_data"
    }
   ],
   "source": [
    "x = np.linspace(0,2,50,endpoint=True)\n",
    "x0 = 0\n",
    "xm = 1\n",
    "x1 = 2\n",
    "plt.plot(x,x**2)\n",
    "plt.plot([x0,xm,x1],[x0,xm**2,x1**2],'ro')\n",
    "plt.plot([x0,xm,x1],[x0,xm**2,x1**2],'r-')\n",
    "plt.xlabel('x')\n",
    "plt.ylabel('y = $x^2$')\n",
    "plt.title('A Parabola Approximated with a Two Line Segments')"
   ]
  },
  {
   "cell_type": "markdown",
   "metadata": {},
   "source": [
    "The next iteration step's approximation is..."
   ]
  },
  {
   "cell_type": "code",
   "execution_count": 99,
   "metadata": {
    "collapsed": false
   },
   "outputs": [
    {
     "name": "stdout",
     "output_type": "stream",
     "text": [
      "1.41421356237 + 3.16227766017 = 4.57649122254\n"
     ]
    }
   ],
   "source": [
    "s1 = np.sqrt((1-0)**2 + (1-0)**2)\n",
    "s2 = np.sqrt((1-0)**2 + (4-1)**2)\n",
    "print s1, '+', s2, '=', s1+s2"
   ]
  },
  {
   "cell_type": "markdown",
   "metadata": {},
   "source": [
    "This approximation is better than what we got from the first, as expected. To generalize,\n",
    "\n",
    "$s \\approx \\sum_{i = 0}^{n-1} \\sqrt( (x_{i+1} - x_i)^2 + (y_{i+1} - y_i)^2)$\n",
    "\n",
    "in which the saavy reader will recognize Pythagoras's famous formula. In the limit we have\n",
    "\n",
    "$s = \\int_{t_0}^{t_1} \\sqrt({\\rm d} x^2 + {\\rm d} y^2)$\n",
    "\n",
    "Close inspection of this integral often invokes fear and loathing. Not only is it a single integral over two infintesimals, the infintesimals appear in a highly nonlinear way. This often leads to a hard calculus problem. By \"hard\" I mean \"impossible\". (For the mathematicians, try solving this integral for a circular quadrant to derive $p = 2\\,\\pi\\, r$. Hint: remember the integral of the arcsine.)\n",
    "\n",
    "Notice the integration limits. The defintion suggests that the infintesimals ought to be functions of the parameter $t$\n",
    "\n",
    "$s = \\int_{t_0}^{t_1} \\sqrt({\\rm d} x(t)^2 + {\\rm d} y(t)^2)$"
   ]
  },
  {
   "cell_type": "markdown",
   "metadata": {},
   "source": [
    "So, let's write a function that computes Pythagoras's formula from two points."
   ]
  },
  {
   "cell_type": "code",
   "execution_count": 109,
   "metadata": {
    "collapsed": false
   },
   "outputs": [
    {
     "data": {
      "text/plain": [
       "4.4721359549995796"
      ]
     },
     "execution_count": 109,
     "metadata": {},
     "output_type": "execute_result"
    }
   ],
   "source": [
    "NumberTypes = (int, long, float)\n",
    "nptype = type(np.array([])) # let python tell me the name of the numpy array\n",
    "\n",
    "def pythag(p1, p2):\n",
    "    \"\"\"\n",
    "    Compute the straight-line distance from p1 to p2.\n",
    "    Arguments:\n",
    "        p1 is an numpy array of any dimension. It's elements are numeric.\n",
    "        p2 is an numpy array of any dimension same as p1. It's elements are numeric.\n",
    "    Preconditions:\n",
    "        (p1 is not empty) and (p1's elements are numeric)\n",
    "        (p2 is not empty) and (p2's elements are numeric) and (p2 has the same length as p1)\n",
    "        p1 and p2 are one-dimensional (vectors, not matrices)\n",
    "    Postcondition:\n",
    "        (result is a non-negative) and (result is a float)\n",
    "    \"\"\"\n",
    "    assert(isinstance(p1, nptype))\n",
    "    assert(isinstance(p2, nptype))\n",
    "    assert(len(p1) > 0)\n",
    "    assert(len(p1) == len(p2))\n",
    "    for i in range(len(p1)):\n",
    "        assert(isinstance(p1[i], NumberTypes))\n",
    "        assert(isinstance(p2[i], NumberTypes))\n",
    "        \n",
    "    result = np.sqrt(sum((p2 - p1)**2))\n",
    "    \n",
    "    assert(result >= 0) # this does both post conditions in one check\n",
    "    return result\n",
    "    \n",
    "pythag(np.array([0,0]), np.array([2,4]))"
   ]
  },
  {
   "cell_type": "markdown",
   "metadata": {},
   "source": [
    "The arclength function takes an array of parametric lambda functions, t0, t1, and a convergence tolerance. Here's how we use a lambda function inside our routine."
   ]
  },
  {
   "cell_type": "code",
   "execution_count": 116,
   "metadata": {
    "collapsed": false
   },
   "outputs": [
    {
     "data": {
      "text/plain": [
       "64"
      ]
     },
     "execution_count": 116,
     "metadata": {},
     "output_type": "execute_result"
    }
   ],
   "source": [
    "x = lambda t: t**2\n",
    "x(8)"
   ]
  },
  {
   "cell_type": "code",
   "execution_count": 146,
   "metadata": {
    "collapsed": true
   },
   "outputs": [],
   "source": [
    "def arclenSegment(curves, t0, t1):\n",
    "    p0 = np.array([c(t0) for c in curves])\n",
    "    p1 = np.array([c(t1) for c in curves])\n",
    "    length = pythag(p0, p1)\n",
    "    return length"
   ]
  },
  {
   "cell_type": "code",
   "execution_count": 147,
   "metadata": {
    "collapsed": false
   },
   "outputs": [
    {
     "data": {
      "text/plain": [
       "4.4721359549995796"
      ]
     },
     "execution_count": 147,
     "metadata": {},
     "output_type": "execute_result"
    }
   ],
   "source": [
    "arclenSegment([lambda t: t, lambda t: t**2], 0.0, 2.0)"
   ]
  },
  {
   "cell_type": "code",
   "execution_count": 154,
   "metadata": {
    "collapsed": true
   },
   "outputs": [],
   "source": [
    "def arclen(curves, t0, t1, tol=0.001):\n",
    "    assert(t0 < t1), 't0 must be less than t1'\n",
    "    assert(tol > 0), 'tolerance must be positive'\n",
    "    assert(len(curves) > 0), 'there must be at least one curve'\n",
    "    \n",
    "    dt = (t1 - t0)/2.0 # divide and conquer\n",
    "    tm = t0 + dt\n",
    "    if dt <= tol:\n",
    "        return arclenSegment(curves, t0, t1)\n",
    "    else:\n",
    "        return arclen(curves, t0, tm, tol) + arclen(curves, tm, t1, tol)"
   ]
  },
  {
   "cell_type": "code",
   "execution_count": 156,
   "metadata": {
    "collapsed": false
   },
   "outputs": [
    {
     "data": {
      "text/plain": [
       "4.6467834540329394"
      ]
     },
     "execution_count": 156,
     "metadata": {},
     "output_type": "execute_result"
    }
   ],
   "source": [
    "arclen([lambda t: t, lambda t: t**2], 0.0, 2.0)"
   ]
  },
  {
   "cell_type": "markdown",
   "metadata": {},
   "source": [
    "This agrees to the exact answer to at least five significant digits. Here's a three-dimensional helical spiral."
   ]
  },
  {
   "cell_type": "code",
   "execution_count": 159,
   "metadata": {
    "collapsed": false
   },
   "outputs": [
    {
     "data": {
      "text/plain": [
       "12.724452390352511"
      ]
     },
     "execution_count": 159,
     "metadata": {},
     "output_type": "execute_result"
    }
   ],
   "source": [
    "arclen([lambda t: np.sin(2.0 * np.pi * t), lambda t: np.cos(2.0 * np.pi * t),lambda t: t,], 0.0, 2.0)"
   ]
  }
 ],
 "metadata": {
  "kernelspec": {
   "display_name": "Python 2",
   "language": "python",
   "name": "python2"
  },
  "language_info": {
   "codemirror_mode": {
    "name": "ipython",
    "version": 2
   },
   "file_extension": ".py",
   "mimetype": "text/x-python",
   "name": "python",
   "nbconvert_exporter": "python",
   "pygments_lexer": "ipython2",
   "version": "2.7.9"
  }
 },
 "nbformat": 4,
 "nbformat_minor": 0
}
