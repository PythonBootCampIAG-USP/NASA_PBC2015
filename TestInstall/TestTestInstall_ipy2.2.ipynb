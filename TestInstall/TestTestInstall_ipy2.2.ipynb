{
 "metadata": {
  "name": "",
  "signature": "sha256:eda572be091f41c414dd2995a852bde3751bc4416060e1577cb37d3acfe0338d"
 },
 "nbformat": 3,
 "nbformat_minor": 0,
 "worksheets": [
  {
   "cells": [
    {
     "cell_type": "code",
     "collapsed": false,
     "input": [
      "success = True # We'll use this to keep track of the various tests"
     ],
     "language": "python",
     "metadata": {},
     "outputs": [],
     "prompt_number": 1
    },
    {
     "cell_type": "code",
     "collapsed": false,
     "input": [
      "try:\n",
      "    import numpy as np\n",
      "    import scipy\n",
      "except:\n",
      "    success = False\n",
      "    print \"There was a problem importing numpy or scipy.  You will definitely need these!\""
     ],
     "language": "python",
     "metadata": {},
     "outputs": [],
     "prompt_number": 2
    },
    {
     "cell_type": "code",
     "collapsed": false,
     "input": [
      "try:\n",
      "    import matplotlib\n",
      "    import matplotlib.pyplot as plt\n",
      "    %matplotlib inline\n",
      "except:\n",
      "    success = False\n",
      "    print \"There was a problem importing matplotlib.  You will definitely need this\""
     ],
     "language": "python",
     "metadata": {},
     "outputs": [],
     "prompt_number": 3
    },
    {
     "cell_type": "code",
     "collapsed": false,
     "input": [
      "plt.plot([1, 2, 3], [1, 4, 9], \"ro--\")"
     ],
     "language": "python",
     "metadata": {},
     "outputs": [
      {
       "metadata": {},
       "output_type": "pyout",
       "prompt_number": 4,
       "text": [
        "[<matplotlib.lines.Line2D at 0x106d258d0>]"
       ]
      },
      {
       "metadata": {},
       "output_type": "display_data",
       "png": "[encoded data removed]",
       "text": [
        "<matplotlib.figure.Figure at 0x105018ad0>"
       ]
      }
     ],
     "prompt_number": 4
    },
    {
     "cell_type": "code",
     "collapsed": false,
     "input": [
      "try:\n",
      "    import pandas, PyQt4, enaml\n",
      "except:\n",
      "    success = False\n",
      "    print \"There was a problem importing pandas, pyqt, or enaml.  You will need these for Days 2 and 3.\""
     ],
     "language": "python",
     "metadata": {},
     "outputs": [],
     "prompt_number": 5
    },
    {
     "cell_type": "code",
     "collapsed": false,
     "input": [
      "try:\n",
      "    import h5py\n",
      "    from mpl_toolkits.basemap import Basemap\n",
      "except:\n",
      "    success = False\n",
      "    print \"There was a problem with h5py and/or Basemap.  You will need these for Day 2.\""
     ],
     "language": "python",
     "metadata": {},
     "outputs": [
      {
       "output_type": "stream",
       "stream": "stdout",
       "text": [
        "There was a problem with h5py and/or Basemap.  You will need these for Day 2.\n"
       ]
      }
     ],
     "prompt_number": 6
    },
    {
     "cell_type": "code",
     "collapsed": false,
     "input": [
      "# Basemap Test\n",
      "try:\n",
      "    f = plt.figure(1, figsize=(14.0, 10.0))\n",
      "    f.suptitle(\"Basemap - First Map\")\n",
      "    f.text(0.05, 0.95, \"Mollewide\")\n",
      "    f.subplots_adjust(left=0.05, right=0.95, top=0.80, bottom=0.05, wspace=0.2, hspace=0.4)\n",
      "    f.add_subplot(1, 1, 1)\n",
      "    b = Basemap(projection=\"moll\", lon_0=0, resolution='c')\n",
      "    b.drawcoastlines()\n",
      "    b.drawparallels(np.arange( -90.0,  90.0, 20.0))\n",
      "    b.drawmeridians(np.arange(-180.0, 181.0, 20.0))\n",
      "except:\n",
      "    success = False\n",
      "    print \"There was a problem creating a Basemap plot.  You will need this for Day 2.\""
     ],
     "language": "python",
     "metadata": {},
     "outputs": [
      {
       "output_type": "stream",
       "stream": "stdout",
       "text": [
        "There was a problem creating a Basemap plot.  You will need this for Day 2.\n"
       ]
      },
      {
       "metadata": {},
       "output_type": "display_data",
       "png": "[encoded data removed]",
       "text": [
        "<matplotlib.figure.Figure at 0x108bdb7d0>"
       ]
      }
     ],
     "prompt_number": 7
    },
    {
     "cell_type": "code",
     "collapsed": false,
     "input": [
      "if success:\n",
      "    print \"Congratulations!  Your python seems to be working properly.  We look forward to seeing you at the Boot Camp!\"\n",
      "else:\n",
      "    print \"There was a problem somewhere along the line.  Please let us know where and we will try to help you get to the bottom of it.\"\n"
     ],
     "language": "python",
     "metadata": {},
     "outputs": [
      {
       "output_type": "stream",
       "stream": "stdout",
       "text": [
        "There was a problem somewhere along the line.  Please let us know where and we will try to help you get to the bottom of it.\n"
       ]
      }
     ],
     "prompt_number": 8
    },
    {
     "cell_type": "code",
     "collapsed": false,
     "input": [],
     "language": "python",
     "metadata": {},
     "outputs": []
    }
   ],
   "metadata": {}
  }
 ]
}