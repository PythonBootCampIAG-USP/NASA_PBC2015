{
 "cells": [
  {
   "cell_type": "markdown",
   "metadata": {},
   "source": [
    "# Numpy and Matplotlib"
   ]
  },
  {
   "cell_type": "markdown",
   "metadata": {},
   "source": [
    "## Reference documents\n",
    "\n",
    "1. <A HREF=\"http://wiki.scipy.org/Tentative_NumPy_Tutorial\">Tentative Numpy Tutorial</A>\n",
    "2. <A HREF=\"http://docs.scipy.org/doc/numpy/reference\">NumPy Reference</A>\n",
    "3. <A HREF=\"http://mathesaurus.sourceforge.net/matlab-numpy.html\">NumPy for MATLAB Users</A>\n",
    "4. <A HREF=\"http://mathesaurus.sourceforge.net/r-numpy.html\">NumPy for R (and S-Plus) Users</A>\n",
    "5. <A HREF=\"http://people.duke.edu/~ccc14/pcfb/numerics.html\">NumPy and Matplotlib (Practical Cumputing for Biologists)</A>\n",
    "6. <A HREF=\"http://scipy-lectures.github.io/intro/matplotlib/matplotlib.html\">Matplotlib: Plotting</A>"
   ]
  },
  {
   "cell_type": "markdown",
   "metadata": {},
   "source": [
    "## What is Numpy?\n",
    "\n",
    "While the Python language is an excellent tool for general-purpose programming, it was not designed specifically for mathematical and scientific computing.  Numpy allows for:\n",
    "\n",
    "* Efficient array computing in Python\n",
    "* Efficient indexing/slicing of arrays\n",
    "* Mathematical functions that operate on an entire array\n",
    "\n",
    "The critical thing to know is that Python **for** loops are very slow! One should try to use array-operations as much as possible."
   ]
  },
  {
   "cell_type": "markdown",
   "metadata": {},
   "source": [
    "First, let's import the **numpy** module. There are multiple ways we can do this. In the following examples, <code>zeros</code> is a **numpy** routine which we will see later, and depending on how we import numpy we call it in different ways:\n",
    "\n",
    "* <code>'import numpy' </code>  imports the entire numpy module --> <code>'numpy.zeros()' </code>\n",
    "* <code>'import numpy as np' </code> imports the entire numpy module and renames it --> <code>'np.zeros()' </code>\n",
    "* <code>'from numpy import *' </code> imports the entire numpy module (more or less) --> <code>'zeros()' </code>\n",
    "* <code>'from numpy import zeros' </code> imports *only* the <code>zeros()</code> routine\n",
    "\n",
    "After all that preamble, let's get started:"
   ]
  },
  {
   "cell_type": "code",
   "execution_count": null,
   "metadata": {
    "collapsed": false
   },
   "outputs": [],
   "source": [
    "import numpy as np"
   ]
  },
  {
   "cell_type": "markdown",
   "metadata": {},
   "source": [
    "###Creating numpy arrays"
   ]
  },
  {
   "cell_type": "markdown",
   "metadata": {},
   "source": [
    "You can create an array from scratch, similar to how you might create a list / tuple / whatever:"
   ]
  },
  {
   "cell_type": "code",
   "execution_count": null,
   "metadata": {
    "collapsed": false
   },
   "outputs": [],
   "source": [
    "a = np.array([1,2,3])    # or np.array((1,2,3))\n",
    "print a"
   ]
  },
  {
   "cell_type": "markdown",
   "metadata": {},
   "source": [
    "You can also convert a list or tuple of elements into an array:"
   ]
  },
  {
   "cell_type": "code",
   "execution_count": null,
   "metadata": {
    "collapsed": false
   },
   "outputs": [],
   "source": [
    "myList = [0.2, 0.4, 0.6]\n",
    "myArray = np.array(myList)\n",
    "print myList\n",
    "print myArray"
   ]
  },
  {
   "cell_type": "code",
   "execution_count": null,
   "metadata": {
    "collapsed": false
   },
   "outputs": [],
   "source": [
    "print type(myArray)"
   ]
  },
  {
   "cell_type": "code",
   "execution_count": null,
   "metadata": {
    "collapsed": false
   },
   "outputs": [],
   "source": [
    "print myArray.dtype"
   ]
  },
  {
   "cell_type": "markdown",
   "metadata": {},
   "source": [
    "Arrays can be created with non-numbers as well, but all the elements of an array have to have the same type. i.e., arrays are *homogeneous*. Once an array has been created, its dtype is fixed and it can only store elements of the same type. However, the dtype can explicitly be changed (we'll see this later)."
   ]
  },
  {
   "cell_type": "code",
   "execution_count": null,
   "metadata": {
    "collapsed": false
   },
   "outputs": [],
   "source": [
    "# an array of booleans\n",
    "\n",
    "print np.array([True, False, True])"
   ]
  },
  {
   "cell_type": "code",
   "execution_count": null,
   "metadata": {
    "collapsed": false
   },
   "outputs": [],
   "source": [
    "# an array of characters/strings\n",
    "\n",
    "print np.array(['a', 'b', 'c'])"
   ]
  },
  {
   "cell_type": "code",
   "execution_count": null,
   "metadata": {
    "collapsed": false
   },
   "outputs": [],
   "source": [
    "print np.array([2, 3, 'c'])"
   ]
  },
  {
   "cell_type": "code",
   "execution_count": null,
   "metadata": {
    "collapsed": false
   },
   "outputs": [],
   "source": [
    "print np.array([2, 3, 0.4])"
   ]
  },
  {
   "cell_type": "code",
   "execution_count": null,
   "metadata": {
    "collapsed": false
   },
   "outputs": [],
   "source": [
    "print np.array([2, 3, 'c'], dtype=int)"
   ]
  },
  {
   "cell_type": "markdown",
   "metadata": {},
   "source": [
    "You can access elements of an array in the same way you access elements of a list:"
   ]
  },
  {
   "cell_type": "code",
   "execution_count": null,
   "metadata": {
    "collapsed": false
   },
   "outputs": [],
   "source": [
    "print myArray[0]"
   ]
  },
  {
   "cell_type": "code",
   "execution_count": null,
   "metadata": {
    "collapsed": false
   },
   "outputs": [],
   "source": [
    "print myArray[-1]"
   ]
  },
  {
   "cell_type": "code",
   "execution_count": null,
   "metadata": {
    "collapsed": false
   },
   "outputs": [],
   "source": [
    "print myArray[1:]"
   ]
  },
  {
   "cell_type": "markdown",
   "metadata": {},
   "source": [
    "Multidimensional arrays work like you might expect:"
   ]
  },
  {
   "cell_type": "code",
   "execution_count": null,
   "metadata": {
    "collapsed": false
   },
   "outputs": [],
   "source": [
    "newArray = np.array([ [3, 8, 0, 1],\n",
    "                      [4, 0, 0, 9],\n",
    "                      [2, 2, 7, 1],\n",
    "                      [5, 1, 0, 8]] )\n",
    "print newArray\n",
    "print newArray.shape"
   ]
  },
  {
   "cell_type": "code",
   "execution_count": null,
   "metadata": {
    "collapsed": false
   },
   "outputs": [],
   "source": [
    "print newArray[0]"
   ]
  },
  {
   "cell_type": "code",
   "execution_count": null,
   "metadata": {
    "collapsed": false
   },
   "outputs": [],
   "source": [
    "print newArray[1,3]"
   ]
  },
  {
   "cell_type": "code",
   "execution_count": null,
   "metadata": {
    "collapsed": false
   },
   "outputs": [],
   "source": [
    "print newArray[3,0:2]"
   ]
  },
  {
   "cell_type": "markdown",
   "metadata": {},
   "source": [
    "If you know the size of the array you want, you can create an array of ones or zeros or an empty array:"
   ]
  },
  {
   "cell_type": "code",
   "execution_count": null,
   "metadata": {
    "collapsed": false
   },
   "outputs": [],
   "source": [
    "b = np.ones((3,2))\n",
    "print b\n",
    "print b.shape"
   ]
  },
  {
   "cell_type": "code",
   "execution_count": null,
   "metadata": {
    "collapsed": false
   },
   "outputs": [],
   "source": [
    "c = np.zeros((1,3), int)\n",
    "print c\n",
    "print type(c)\n",
    "print c.dtype"
   ]
  },
  {
   "cell_type": "code",
   "execution_count": null,
   "metadata": {
    "collapsed": false
   },
   "outputs": [],
   "source": [
    "d = np.zeros(3, complex)\n",
    "print d\n",
    "print d.dtype"
   ]
  },
  {
   "cell_type": "code",
   "execution_count": null,
   "metadata": {
    "collapsed": false
   },
   "outputs": [],
   "source": [
    "# slightly faster, but be careful to fill it with actual values!\n",
    "\n",
    "f = np.empty(4)\n",
    "f.fill(3.14)\n",
    "f[-1] = 0\n",
    "print f"
   ]
  },
  {
   "cell_type": "markdown",
   "metadata": {},
   "source": [
    "Create an identity array:"
   ]
  },
  {
   "cell_type": "code",
   "execution_count": null,
   "metadata": {
    "collapsed": false
   },
   "outputs": [],
   "source": [
    "print np.eye(5, dtype=int)    # default data type is 'float'"
   ]
  },
  {
   "cell_type": "markdown",
   "metadata": {},
   "source": [
    "### Number generation\n",
    "\n",
    "Here are a few ways to generate uniformly spaced numbers over an interval (including both endpoints), similar to <code>range()</code>:"
   ]
  },
  {
   "cell_type": "code",
   "execution_count": null,
   "metadata": {
    "collapsed": false
   },
   "outputs": [],
   "source": [
    "print np.arange(-5, 5, 0.5)    # excludes upper endpoint"
   ]
  },
  {
   "cell_type": "code",
   "execution_count": null,
   "metadata": {
    "collapsed": false
   },
   "outputs": [],
   "source": [
    "print np.linspace(-3, 3, 7)     # includes both endpoints"
   ]
  },
  {
   "cell_type": "code",
   "execution_count": null,
   "metadata": {
    "collapsed": false
   },
   "outputs": [],
   "source": [
    "print np.logspace(1, 4, 4)"
   ]
  },
  {
   "cell_type": "markdown",
   "metadata": {},
   "source": [
    "Some examples of random number generation using numpy"
   ]
  },
  {
   "cell_type": "code",
   "execution_count": null,
   "metadata": {
    "collapsed": false,
    "scrolled": true
   },
   "outputs": [],
   "source": [
    "print np.random.rand(10)\n",
    "print np.random.rand(2,2)"
   ]
  },
  {
   "cell_type": "code",
   "execution_count": null,
   "metadata": {
    "collapsed": false
   },
   "outputs": [],
   "source": [
    "print np.random.randint(2,100,5)"
   ]
  },
  {
   "cell_type": "code",
   "execution_count": null,
   "metadata": {
    "collapsed": false
   },
   "outputs": [],
   "source": [
    "print np.random.normal(10, 3, (2,4))"
   ]
  },
  {
   "cell_type": "code",
   "execution_count": null,
   "metadata": {
    "collapsed": false
   },
   "outputs": [],
   "source": [
    "print np.random.randn(5)    # samples 5 times from the standard normal distribution"
   ]
  },
  {
   "cell_type": "code",
   "execution_count": null,
   "metadata": {
    "collapsed": false
   },
   "outputs": [],
   "source": [
    "print np.random.normal(3, 1, 5)    # samples 5 times from a Gaussian with mean 3 and std dev 1"
   ]
  },
  {
   "cell_type": "markdown",
   "metadata": {},
   "source": [
    "### Working with and manipulating arrays"
   ]
  },
  {
   "cell_type": "code",
   "execution_count": null,
   "metadata": {
    "collapsed": false
   },
   "outputs": [],
   "source": [
    "print newArray"
   ]
  },
  {
   "cell_type": "code",
   "execution_count": null,
   "metadata": {
    "collapsed": false
   },
   "outputs": [],
   "source": [
    "print newArray.reshape(2,8)"
   ]
  },
  {
   "cell_type": "code",
   "execution_count": null,
   "metadata": {
    "collapsed": false
   },
   "outputs": [],
   "source": [
    "print newArray.reshape(-1,2)"
   ]
  },
  {
   "cell_type": "markdown",
   "metadata": {},
   "source": [
    "None of these manipulations have modified the original newArray:"
   ]
  },
  {
   "cell_type": "code",
   "execution_count": null,
   "metadata": {
    "collapsed": false
   },
   "outputs": [],
   "source": [
    "print newArray"
   ]
  },
  {
   "cell_type": "code",
   "execution_count": null,
   "metadata": {
    "collapsed": false
   },
   "outputs": [],
   "source": [
    "reshapedArray = newArray.reshape(2,8)\n",
    "print reshapedArray\n",
    "print newArray"
   ]
  },
  {
   "cell_type": "markdown",
   "metadata": {},
   "source": [
    "Above we saw how to index arrays with single numbers and slices, just like Python lists.  But arrays allow for a more sophisticated kind of indexing which is very powerful: you can index an array with another array, and in particular with an array of boolean values.  This is particluarly useful to extract information from an array that matches a certain condition."
   ]
  },
  {
   "cell_type": "code",
   "execution_count": null,
   "metadata": {
    "collapsed": false
   },
   "outputs": [],
   "source": [
    "redshifts =  np.array((0.2, 1.56, 6.3, 0.003, 0.9, 4.54, 1.1))"
   ]
  },
  {
   "cell_type": "code",
   "execution_count": null,
   "metadata": {
    "collapsed": false
   },
   "outputs": [],
   "source": [
    "close = redshifts < 1\n",
    "print close\n",
    "print redshifts[close]"
   ]
  },
  {
   "cell_type": "code",
   "execution_count": null,
   "metadata": {
    "collapsed": false
   },
   "outputs": [],
   "source": [
    "far = np.where(redshifts > 2)\n",
    "print far\n",
    "print redshifts[far]"
   ]
  },
  {
   "cell_type": "code",
   "execution_count": null,
   "metadata": {
    "collapsed": false
   },
   "outputs": [],
   "source": [
    "middle = np.where( (redshifts >= 1) & (redshifts <= 2) )\n",
    "print middle\n",
    "print redshifts[middle]"
   ]
  },
  {
   "cell_type": "code",
   "execution_count": null,
   "metadata": {
    "collapsed": false
   },
   "outputs": [],
   "source": [
    "(redshifts >= 1) & (redshifts <= 2)"
   ]
  },
  {
   "cell_type": "markdown",
   "metadata": {},
   "source": [
    "### Mathematical operations on arrays\n",
    "\n",
    "Math with arrays is straightforward and easy. For instance, let's say we want to multiply every number in a group by 3. If we try to do that with a list:"
   ]
  },
  {
   "cell_type": "code",
   "execution_count": null,
   "metadata": {
    "collapsed": false
   },
   "outputs": [],
   "source": [
    "myList = [3, 6, 7, 2]\n",
    "print 2*myList"
   ]
  },
  {
   "cell_type": "code",
   "execution_count": null,
   "metadata": {
    "collapsed": false
   },
   "outputs": [],
   "source": [
    "myArray = np.array([3, 6, 7, 2])\n",
    "print 2*myArray"
   ]
  },
  {
   "cell_type": "markdown",
   "metadata": {},
   "source": [
    "In general, mathematical operations on arrays are done **element-by-element**:"
   ]
  },
  {
   "cell_type": "code",
   "execution_count": null,
   "metadata": {
    "collapsed": false
   },
   "outputs": [],
   "source": [
    "arr1 = np.arange(4)\n",
    "arr2 = np.arange(10,14)\n",
    "print arr1\n",
    "print arr2"
   ]
  },
  {
   "cell_type": "code",
   "execution_count": null,
   "metadata": {
    "collapsed": false
   },
   "outputs": [],
   "source": [
    "print arr1 + arr2\n",
    "print arr1 - arr2\n",
    "print arr1 * arr2\n",
    "print arr1 / arr2"
   ]
  },
  {
   "cell_type": "markdown",
   "metadata": {},
   "source": [
    "Notice in particular that multiplication is element-wise and is NOT a dot product or regular matrix multiplication."
   ]
  },
  {
   "cell_type": "code",
   "execution_count": null,
   "metadata": {
    "collapsed": false
   },
   "outputs": [],
   "source": [
    "print 3.5 + arr1"
   ]
  },
  {
   "cell_type": "markdown",
   "metadata": {},
   "source": [
    "In the last example, numpy understood the command to be \"add 3.5 to every element in arr1.\" That is, it converts the scalar 3.5 into an array of the appropriate size. Since the new array is filled with floats, and arr1 is filled with ints, the summed array is an array of floats.\n",
    "\n",
    "### Broadcasting with numpy\n",
    "\n",
    "The broadcasting rules allow numpy to:\n",
    "\n",
    "* *create* new dimensions of length 1 (since this doesn't change the size of the array)\n",
    "* 'stretch' a dimension of length 1 that needs to be matched to a dimension of a different size.\n",
    "\n",
    "So in the above example, the scalar 1.5 is effectively:\n",
    "\n",
    "* first 'promoted' to a 1-dimensional array of length 1\n",
    "* then, this array is 'stretched' to length 4 to match the dimension of `arr1`.\n",
    "\n",
    "After these two operations are complete, the addition can proceed as now both operands are one-dimensional arrays of length 4.\n",
    "\n",
    "This broadcasting behavior is in practice enormously powerful, especially because when numpy broadcasts to create new dimensions or to 'stretch' existing ones, it doesn't actually replicate the data.  In the example above the operation is carried *as if* the 1.5 was a 1-d array with 1.5 in all of its entries, but no actual array was ever created.  This can save lots of memory in cases when the arrays in question are large and can have significant performance implications."
   ]
  },
  {
   "cell_type": "code",
   "execution_count": null,
   "metadata": {
    "collapsed": false
   },
   "outputs": [],
   "source": [
    "arr1 += 10\n",
    "print arr1"
   ]
  },
  {
   "cell_type": "code",
   "execution_count": null,
   "metadata": {
    "collapsed": false
   },
   "outputs": [],
   "source": [
    "arr1.fill(0)\n",
    "print arr1"
   ]
  },
  {
   "cell_type": "code",
   "execution_count": null,
   "metadata": {
    "collapsed": false
   },
   "outputs": [],
   "source": [
    "print arr2\n",
    "print np.mean(arr2), arr2.mean()\n",
    "print np.sum(arr2), arr2.sum()\n",
    "print np.min(arr2), arr2.min()"
   ]
  },
  {
   "cell_type": "markdown",
   "metadata": {},
   "source": [
    "### Numpy I/O with arrays\n",
    "\n",
    "Numpy makes it easy to write arrays to files and read them. It can write both text and binary files. In a text file, the number $\\pi$ could be written as \"3.141592653589793\", for example: a string of digits that a human can read, with in this case 15 decimal digits.  In contrast, that same number written to a binary file would be encoded as 8 characters (bytes) that are not readable by a human but which contain the exact same data that the variable `pi` had in the computer's memory.\n",
    "\n",
    "* Text mode: occupies more space, precision can be lost (if not all digits are written to disk), but is readable and editable by hand with a text editor.  Can *only* be used for one- and two-dimensional arrays.\n",
    "\n",
    "* Binary mode: compact and exact representation of the data in memory, can't be read or edited by hand.  Arrays of any size and dimensionality can be saved and read without loss of information.\n",
    "\n",
    "In the following examples, we'll only be talking about reading and writing arrays in text mode."
   ]
  },
  {
   "cell_type": "code",
   "execution_count": null,
   "metadata": {
    "collapsed": false
   },
   "outputs": [],
   "source": [
    "arr3 = np.random.rand(6,5)\n",
    "print arr3"
   ]
  },
  {
   "cell_type": "code",
   "execution_count": null,
   "metadata": {
    "collapsed": false
   },
   "outputs": [],
   "source": [
    "np.savetxt('arrayFile.txt', arr3, fmt='%.2e', header='my dataset')"
   ]
  },
  {
   "cell_type": "code",
   "execution_count": null,
   "metadata": {
    "collapsed": false
   },
   "outputs": [],
   "source": [
    "arr4 = np.loadtxt('arrayFile.txt')"
   ]
  },
  {
   "cell_type": "code",
   "execution_count": null,
   "metadata": {
    "collapsed": false
   },
   "outputs": [],
   "source": [
    "print arr4"
   ]
  },
  {
   "cell_type": "code",
   "execution_count": null,
   "metadata": {
    "collapsed": false
   },
   "outputs": [],
   "source": [
    "print arr3 == arr4"
   ]
  },
  {
   "cell_type": "markdown",
   "metadata": {},
   "source": [
    "## What is Matplotlib?\n",
    "\n",
    "The [matplotlib](http://matplotlib.org) library is a powerful tool capable that can quickly produce simple plots for data visualization as well as complex publication-quality figures with fine layout control. Here, we will only provide a minimal introduction, but Google is your friend when it comes to creating the perfect plots.  The pyplot tutorial (http://matplotlib.org/users/pyplot_tutorial.html) is a great place to get started, and the matplotlib gallery (http://matplotlib.org/gallery.html) has tons of information as well.\n",
    "\n",
    "Just as we typically use the shorthand `np` for Numpy, we will use `plt` for the `matplotlib.pyplot` module where the plotting functions reside."
   ]
  },
  {
   "cell_type": "code",
   "execution_count": null,
   "metadata": {
    "collapsed": false
   },
   "outputs": [],
   "source": [
    "import matplotlib.pyplot as plt\n",
    "%matplotlib inline"
   ]
  },
  {
   "cell_type": "markdown",
   "metadata": {},
   "source": [
    "To plot a collection of x- and y-values:"
   ]
  },
  {
   "cell_type": "code",
   "execution_count": null,
   "metadata": {
    "collapsed": false
   },
   "outputs": [],
   "source": [
    "x = np.linspace(0, 2*np.pi, 50)\n",
    "y = np.sin(x)\n",
    "plt.plot(x, y)"
   ]
  },
  {
   "cell_type": "code",
   "execution_count": null,
   "metadata": {
    "collapsed": false
   },
   "outputs": [],
   "source": [
    "### If you don't give it x values:\n",
    "plt.plot(np.random.rand(100))"
   ]
  },
  {
   "cell_type": "code",
   "execution_count": null,
   "metadata": {
    "collapsed": false
   },
   "outputs": [],
   "source": [
    "### Multiple data sets on the same plot\n",
    "# the semicolon at the end suppresses the display of some usually unnecessary information\n",
    "\n",
    "plt.plot(x, np.sin(x), label=r'$\\sin(x)$')\n",
    "plt.plot(x, np.cos(x), label='cos(x)')\n",
    "plt.xlabel('x values')\n",
    "plt.ylabel('y values')\n",
    "plt.title('two functions')\n",
    "plt.legend();"
   ]
  },
  {
   "cell_type": "markdown",
   "metadata": {},
   "source": [
    "Notice how matplotlib automatically assigned different colors to the two data sets. We can finetune what these look like:"
   ]
  },
  {
   "cell_type": "code",
   "execution_count": null,
   "metadata": {
    "collapsed": false
   },
   "outputs": [],
   "source": [
    "plt.plot(x, np.sin(x), linewidth=3, color='red', linestyle='--')"
   ]
  },
  {
   "cell_type": "code",
   "execution_count": null,
   "metadata": {
    "collapsed": false
   },
   "outputs": [],
   "source": [
    "plt.plot(x, np.sin(x), 'o', markersize=5, color='k')"
   ]
  },
  {
   "cell_type": "code",
   "execution_count": null,
   "metadata": {
    "collapsed": false
   },
   "outputs": [],
   "source": [
    "### logarithmic plots\n",
    "x = np.linspace(-5, 5)\n",
    "y = np.exp(-x**2)\n",
    "plt.semilogy(x,y, lw=2, color='#ff0066')"
   ]
  },
  {
   "cell_type": "code",
   "execution_count": null,
   "metadata": {
    "collapsed": false
   },
   "outputs": [],
   "source": [
    "plt.loglog(x,y)\n",
    "plt.xlim(1e-1, 1e1)\n",
    "plt.ylim(1e-2, 1e1)"
   ]
  },
  {
   "cell_type": "code",
   "execution_count": null,
   "metadata": {
    "collapsed": false
   },
   "outputs": [],
   "source": [
    "# A more complicated example\n",
    "\n",
    "mu, sigma = 5.9, 0.2\n",
    "measurements = mu + sigma * np.random.randn(10000)\n",
    "\n",
    "# the histogram of the data\n",
    "plt.hist(measurements, 50, normed=False, facecolor='g', alpha=0.75, label='data')\n",
    "\n",
    "plt.xlabel('Height (feet)')\n",
    "plt.ylabel('Number of people')\n",
    "plt.title('Height distribution')\n",
    "# This will put a text fragment at the position given:\n",
    "plt.text(5.1, 600, r'$\\mu=100$, $\\sigma=15$', fontsize=14)\n",
    "plt.axis([5,6.7,0,750])\n",
    "plt.grid(True)\n",
    "plt.legend()"
   ]
  },
  {
   "cell_type": "code",
   "execution_count": null,
   "metadata": {
    "collapsed": false
   },
   "outputs": [],
   "source": [
    "### Error bars and subplots\n",
    "\n",
    "# generate some fake data, with errors in y\n",
    "x = np.arange(0.2, 4, 0.5)\n",
    "y = np.exp(-x)\n",
    "errors = 0.1 + 0.1*np.sqrt(x)\n",
    "\n",
    "\n",
    "fig = plt.figure()\n",
    "\n",
    "noErrs = fig.add_subplot(121)\n",
    "plt.plot(x, y)\n",
    "plt.xticks((0,1,2,3,4))\n",
    "noErrs.set_title('No errors')\n",
    "noErrs.set_ylim(-0.3,1)\n",
    "\n",
    "withErrs = fig.add_subplot(122)\n",
    "withErrs.errorbar(x, y, yerr=errors)\n",
    "withErrs.set_title('With errors')\n",
    "plt.ylim(-0.3,1)\n",
    "plt.xticks(np.arange(0,4.5,0.5))\n",
    "\n",
    "fig.suptitle('fake data', size=16, weight='bold')"
   ]
  },
  {
   "cell_type": "code",
   "execution_count": null,
   "metadata": {
    "collapsed": false
   },
   "outputs": [],
   "source": [
    "# normal distribution center at x=0 and y=5\n",
    "\n",
    "x = np.random.randn(100000)\n",
    "y = np.random.randn(100000)+5\n",
    "\n",
    "plt.hist2d(x, y, bins=40)\n",
    "plt.colorbar()"
   ]
  },
  {
   "cell_type": "markdown",
   "metadata": {
    "collapsed": true
   },
   "source": [
    "### A final note\n",
    "\n",
    "Since we often need to use numpy + matplotlib (+ SciPy + others) at the same time, we can import all of these modules at once using a single command. Instead of:\n",
    "\n",
    "        import numpy as np\n",
    "        import matplotlib.pyplot as plt\n",
    "        %matplotlib inline\n",
    "        \n",
    "etc., just use:\n",
    "\n",
    "        %pylab inline"
   ]
  },
  {
   "cell_type": "code",
   "execution_count": null,
   "metadata": {
    "collapsed": true
   },
   "outputs": [],
   "source": []
  }
 ],
 "metadata": {
  "kernelspec": {
   "display_name": "Python 2",
   "language": "python",
   "name": "python2"
  },
  "language_info": {
   "codemirror_mode": {
    "name": "ipython",
    "version": 2
   },
   "file_extension": ".py",
   "mimetype": "text/x-python",
   "name": "python",
   "nbconvert_exporter": "python",
   "pygments_lexer": "ipython2",
   "version": "2.7.10"
  }
 },
 "nbformat": 4,
 "nbformat_minor": 0
}
